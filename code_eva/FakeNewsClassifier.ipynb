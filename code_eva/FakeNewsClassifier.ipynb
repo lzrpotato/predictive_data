{
 "cells": [
  {
   "cell_type": "markdown",
   "metadata": {
    "id": "G8huogek1v8D"
   },
   "source": [
    "# **Fake news classifier**"
   ]
  },
  {
   "cell_type": "code",
   "execution_count": 112,
   "metadata": {
    "colab": {
     "base_uri": "https://localhost:8080/",
     "height": 34
    },
    "id": "ofNGIHq02U3R",
    "outputId": "1ac43df8-6a17-489d-ba00-761781a3d727"
   },
   "outputs": [
    {
     "name": "stdout",
     "output_type": "stream",
     "text": [
      "Correct version of Tensorflow installed.\n"
     ]
    }
   ],
   "source": [
    "# First we import the required libraries\n",
    "\n",
    "import tensorflow as tf\n",
    "import random\n",
    "import numpy as np\n",
    "import pandas as pd\n",
    "import matplotlib.image  as mpimg\n",
    "import matplotlib.pyplot as plt\n",
    "import io\n",
    "\n",
    "from sklearn.model_selection import train_test_split\n",
    "from sklearn.utils import shuffle\n",
    "from tensorflow.keras.preprocessing.text import Tokenizer\n",
    "from tensorflow.keras.preprocessing.sequence import pad_sequences\n",
    "from tensorflow.keras.utils import to_categorical\n",
    "from tensorflow.keras import regularizers\n",
    "from tensorflow.keras import backend as K \n",
    "K.clear_session()\n",
    "\n",
    "# Check tensorflow version\n",
    "if float(tf.__version__[0]) < 2.0:\n",
    "  print('Updating tensorflow')\n",
    "  !pip install tensorflow==2.0\n",
    "else:\n",
    "  print('Correct version of Tensorflow installed.')"
   ]
  },
  {
   "cell_type": "code",
   "execution_count": 113,
   "metadata": {
    "colab": {
     "base_uri": "https://localhost:8080/",
     "height": 119
    },
    "id": "7YHDGDv7_VU2",
    "outputId": "7ef1bcc1-671c-4fe5-b07a-985862c3f70d"
   },
   "outputs": [
    {
     "name": "stdout",
     "output_type": "stream",
     "text": [
      "ID      1490\n",
      "text    1490\n",
      "dtype: int64\n",
      "ID       742\n",
      "text     742\n",
      "label    742\n",
      "code     742\n",
      "dtype: int64\n"
     ]
    },
    {
     "data": {
      "text/html": [
       "<div>\n",
       "<style scoped>\n",
       "    .dataframe tbody tr th:only-of-type {\n",
       "        vertical-align: middle;\n",
       "    }\n",
       "\n",
       "    .dataframe tbody tr th {\n",
       "        vertical-align: top;\n",
       "    }\n",
       "\n",
       "    .dataframe thead th {\n",
       "        text-align: right;\n",
       "    }\n",
       "</style>\n",
       "<table border=\"1\" class=\"dataframe\">\n",
       "  <thead>\n",
       "    <tr style=\"text-align: right;\">\n",
       "      <th></th>\n",
       "      <th>ID</th>\n",
       "      <th>text</th>\n",
       "      <th>label</th>\n",
       "      <th>code</th>\n",
       "    </tr>\n",
       "  </thead>\n",
       "  <tbody>\n",
       "    <tr>\n",
       "      <th>4</th>\n",
       "      <td>551099691702956032</td>\n",
       "      <td>rip elly may clampett: so sad to learn #beverl...</td>\n",
       "      <td>1</td>\n",
       "      <td>1</td>\n",
       "    </tr>\n",
       "    <tr>\n",
       "      <th>7</th>\n",
       "      <td>514106273852174337</td>\n",
       "      <td>just in: missing afghan soldiers found trying ...</td>\n",
       "      <td>1</td>\n",
       "      <td>1</td>\n",
       "    </tr>\n",
       "    <tr>\n",
       "      <th>9</th>\n",
       "      <td>495366618818830336</td>\n",
       "      <td>#riphulkhogan my heart is ripping like your sh...</td>\n",
       "      <td>0</td>\n",
       "      <td>0</td>\n",
       "    </tr>\n",
       "    <tr>\n",
       "      <th>10</th>\n",
       "      <td>532206910796468224</td>\n",
       "      <td>a chick-fil-a manager allegedly banned this hi...</td>\n",
       "      <td>0</td>\n",
       "      <td>0</td>\n",
       "    </tr>\n",
       "    <tr>\n",
       "      <th>11</th>\n",
       "      <td>560187970389819392</td>\n",
       "      <td>islamic tribunal using sharia law in texas has...</td>\n",
       "      <td>0</td>\n",
       "      <td>0</td>\n",
       "    </tr>\n",
       "  </tbody>\n",
       "</table>\n",
       "</div>"
      ],
      "text/plain": [
       "                    ID                                               text  \\\n",
       "4   551099691702956032  rip elly may clampett: so sad to learn #beverl...   \n",
       "7   514106273852174337  just in: missing afghan soldiers found trying ...   \n",
       "9   495366618818830336  #riphulkhogan my heart is ripping like your sh...   \n",
       "10  532206910796468224  a chick-fil-a manager allegedly banned this hi...   \n",
       "11  560187970389819392  islamic tribunal using sharia law in texas has...   \n",
       "\n",
       "    label  code  \n",
       "4       1     1  \n",
       "7       1     1  \n",
       "9       0     0  \n",
       "10      0     0  \n",
       "11      0     0  "
      ]
     },
     "execution_count": 113,
     "metadata": {},
     "output_type": "execute_result"
    }
   ],
   "source": [
    "# Retrieve the data\n",
    "df = pd.read_csv('rumor_detection_acl2017/twitter15/source_tweets.txt', sep=r'\\t', engine='python')\n",
    "df = df.fillna(' ')\n",
    "df.head()\n",
    "print(df.count())\n",
    "\n",
    "label = pd.read_csv('rumor_detection_acl2017/twitter15/label.txt', sep=r':', engine='python')\n",
    "label = label.fillna(' ')\n",
    "label.head()\n",
    "label.count()\n",
    "\n",
    "df = df.merge(label)\n",
    "df = df[df.label != 'unverified']\n",
    "df = df[df.label != 'non-rumor']\n",
    "df.label = pd.Categorical(df.label)\n",
    "df['code'] = df.label.cat.codes\n",
    "\n",
    "df['label'] = df.label.astype('category').cat.codes\n",
    "print(df.count())\n",
    "df.head()\n"
   ]
  },
  {
   "cell_type": "code",
   "execution_count": 114,
   "metadata": {},
   "outputs": [
    {
     "name": "stdout",
     "output_type": "stream",
     "text": [
      "ID      818\n",
      "text    818\n",
      "dtype: int64\n",
      "ID       742\n",
      "text     742\n",
      "label    742\n",
      "code     742\n",
      "dtype: int64\n"
     ]
    },
    {
     "data": {
      "text/html": [
       "<div>\n",
       "<style scoped>\n",
       "    .dataframe tbody tr th:only-of-type {\n",
       "        vertical-align: middle;\n",
       "    }\n",
       "\n",
       "    .dataframe tbody tr th {\n",
       "        vertical-align: top;\n",
       "    }\n",
       "\n",
       "    .dataframe thead th {\n",
       "        text-align: right;\n",
       "    }\n",
       "</style>\n",
       "<table border=\"1\" class=\"dataframe\">\n",
       "  <thead>\n",
       "    <tr style=\"text-align: right;\">\n",
       "      <th></th>\n",
       "      <th>ID</th>\n",
       "      <th>text</th>\n",
       "      <th>label</th>\n",
       "      <th>code</th>\n",
       "    </tr>\n",
       "  </thead>\n",
       "  <tbody>\n",
       "    <tr>\n",
       "      <th>4</th>\n",
       "      <td>551099691702956032</td>\n",
       "      <td>rip elly may clampett: so sad to learn #beverl...</td>\n",
       "      <td>1</td>\n",
       "      <td>1</td>\n",
       "    </tr>\n",
       "    <tr>\n",
       "      <th>7</th>\n",
       "      <td>514106273852174337</td>\n",
       "      <td>just in: missing afghan soldiers found trying ...</td>\n",
       "      <td>1</td>\n",
       "      <td>1</td>\n",
       "    </tr>\n",
       "    <tr>\n",
       "      <th>9</th>\n",
       "      <td>495366618818830336</td>\n",
       "      <td>#riphulkhogan my heart is ripping like your sh...</td>\n",
       "      <td>0</td>\n",
       "      <td>0</td>\n",
       "    </tr>\n",
       "    <tr>\n",
       "      <th>10</th>\n",
       "      <td>532206910796468224</td>\n",
       "      <td>a chick-fil-a manager allegedly banned this hi...</td>\n",
       "      <td>0</td>\n",
       "      <td>0</td>\n",
       "    </tr>\n",
       "    <tr>\n",
       "      <th>11</th>\n",
       "      <td>560187970389819392</td>\n",
       "      <td>islamic tribunal using sharia law in texas has...</td>\n",
       "      <td>0</td>\n",
       "      <td>0</td>\n",
       "    </tr>\n",
       "  </tbody>\n",
       "</table>\n",
       "</div>"
      ],
      "text/plain": [
       "                    ID                                               text  \\\n",
       "4   551099691702956032  rip elly may clampett: so sad to learn #beverl...   \n",
       "7   514106273852174337  just in: missing afghan soldiers found trying ...   \n",
       "9   495366618818830336  #riphulkhogan my heart is ripping like your sh...   \n",
       "10  532206910796468224  a chick-fil-a manager allegedly banned this hi...   \n",
       "11  560187970389819392  islamic tribunal using sharia law in texas has...   \n",
       "\n",
       "    label  code  \n",
       "4       1     1  \n",
       "7       1     1  \n",
       "9       0     0  \n",
       "10      0     0  \n",
       "11      0     0  "
      ]
     },
     "execution_count": 114,
     "metadata": {},
     "output_type": "execute_result"
    }
   ],
   "source": [
    "# test data\n",
    "df2 = pd.read_csv('rumor_detection_acl2017/twitter16/source_tweets.txt', sep=r'\\t', engine='python')\n",
    "df2 = df2.fillna(' ')\n",
    "df2.head()\n",
    "print(df2.count())\n",
    "\n",
    "label2 = pd.read_csv('rumor_detection_acl2017/twitter16/label.txt', sep=r':', engine='python')\n",
    "label2 = label2.fillna(' ')\n",
    "label2.head()\n",
    "label2.count()\n",
    "\n",
    "df2 = df2.merge(label2)\n",
    "df2 = df2[df2.label != 'unverified']\n",
    "df2 = df2[df2.label != 'non-rumor']\n",
    "df2.label = pd.Categorical(df2.label)\n",
    "df2['code'] = df2.label.cat.codes\n",
    "\n",
    "#df['label'] = df.label.astype('category').cat.codes\n",
    "#df = df.append(df2)\n",
    "print(df.count())\n",
    "df.head()"
   ]
  },
  {
   "cell_type": "code",
   "execution_count": 115,
   "metadata": {
    "colab": {
     "base_uri": "https://localhost:8080/",
     "height": 34
    },
    "id": "qHas2w8Dj5dq",
    "outputId": "033463a6-82fb-411f-ada7-fbd97597ad17"
   },
   "outputs": [
    {
     "name": "stdout",
     "output_type": "stream",
     "text": [
      "2729\n",
      "[[ 135  236  108 ...    0    0    0]\n",
      " [  74    4   82 ...    0    0    0]\n",
      " [ 805  137  466 ...    0    0    0]\n",
      " ...\n",
      " [1251 1121 1247 ...    0    0    0]\n",
      " [ 172 2726   58 ...    0    0    0]\n",
      " [ 185 2729    1 ...    0    0    0]]\n"
     ]
    }
   ],
   "source": [
    "# Tokenize text\n",
    "\n",
    "tokenizer = Tokenizer()\n",
    "tokenizer.fit_on_texts(df['text'])\n",
    "word_index = tokenizer.word_index\n",
    "vocab_size=len(word_index)\n",
    "print(vocab_size)\n",
    "\n",
    "# Padding data\n",
    "\n",
    "sequences = tokenizer.texts_to_sequences(df['text'])\n",
    "padded = pad_sequences(sequences, maxlen=50, padding='post', truncating='post')\n",
    "print(padded)"
   ]
  },
  {
   "cell_type": "code",
   "execution_count": 116,
   "metadata": {},
   "outputs": [
    {
     "name": "stdout",
     "output_type": "stream",
     "text": [
      "963    1\n",
      "587    0\n",
      "712    0\n",
      "369    0\n",
      "290    0\n",
      "      ..\n",
      "158    1\n",
      "228    0\n",
      "546    1\n",
      "872    1\n",
      "219    0\n",
      "Name: code, Length: 593, dtype: int8\n"
     ]
    }
   ],
   "source": [
    "from sklearn.model_selection import train_test_split\n",
    "labels = df['code']\n",
    "train_data, test_data, train_labels, test_labels = train_test_split(padded, labels, test_size=0.20, random_state=42)\n",
    "#train_labels = to_categorical(train_labels, 4)\n",
    "#test_labels = to_categorical(test_labels, 4)\n",
    "print(train_labels)\n"
   ]
  },
  {
   "cell_type": "code",
   "execution_count": null,
   "metadata": {
    "colab": {
     "base_uri": "https://localhost:8080/",
     "height": 221
    },
    "id": "4_cKfNmzkH2v",
    "outputId": "8564e533-a433-4040-bacd-d0dce2a84c44"
   },
   "outputs": [],
   "source": [
    "# Import tensor representations for words\n",
    "\n",
    "#!wget --no-check-certificate \\\n",
    "   # https://storage.googleapis.com/laurencemoroney-blog.appspot.com/glove.6B.100d.txt \\\n",
    "   # -O /tmp/glove.6B.100d.txt\n",
    "embeddings_index = {};\n",
    "with open('glove.twitter.27B.50d.txt') as f:\n",
    "    for line in f:\n",
    "        values = line.split();\n",
    "        word = values[0];\n",
    "        coefs = np.asarray(values[1:], dtype='float32');\n",
    "        embeddings_index[word] = coefs;\n",
    "\n",
    "embeddings_matrix = np.zeros((vocab_size+1, 50));\n",
    "for word, i in word_index.items():\n",
    "    embedding_vector = embeddings_index.get(word);\n",
    "    if embedding_vector is not None:\n",
    "        embeddings_matrix[i] = embedding_vector;"
   ]
  },
  {
   "cell_type": "code",
   "execution_count": null,
   "metadata": {
    "id": "hjkzdejAeSiu"
   },
   "outputs": [],
   "source": [
    "\n",
    "from tensorflow.keras import datasets, layers, models\n",
    "import matplotlib.pyplot as plt\n",
    "\n",
    "model = models.Sequential()\n",
    "model.add(layers.Embedding(vocab_size+1, 50, weights=[embeddings_matrix], trainable=False))\n",
    "model.add(layers.Dropout(0.2))\n",
    "model.add(layers.Conv1D(32, 5, activation='relu'))\n",
    "model.add(layers.MaxPooling1D(pool_size=4))\n",
    "model.add(layers.LSTM(10, return_sequences=True))\n",
    "model.add(layers.LSTM(10))\n",
    "model.add(layers.Dropout(0.2))\n",
    "model.add(layers.Dense(256))\n",
    "model.add(layers.Dropout(0.3))\n",
    "model.add(layers.Dense(128))\n",
    "#model.add(layers.Dense(1, activation='sigmoid'))"
   ]
  },
  {
   "cell_type": "code",
   "execution_count": 86,
   "metadata": {
    "colab": {
     "base_uri": "https://localhost:8080/",
     "height": 734
    },
    "id": "ozzZOuJClDPG",
    "outputId": "4f2a1233-cc77-404f-f3f5-685aa679793b"
   },
   "outputs": [
    {
     "name": "stdout",
     "output_type": "stream",
     "text": [
      "Model: \"sequential\"\n",
      "_________________________________________________________________\n",
      "Layer (type)                 Output Shape              Param #   \n",
      "=================================================================\n",
      "embedding (Embedding)        (None, None, 50)          182500    \n",
      "_________________________________________________________________\n",
      "dropout (Dropout)            (None, None, 50)          0         \n",
      "_________________________________________________________________\n",
      "conv1d (Conv1D)              (None, None, 32)          8032      \n",
      "_________________________________________________________________\n",
      "max_pooling1d (MaxPooling1D) (None, None, 32)          0         \n",
      "_________________________________________________________________\n",
      "lstm (LSTM)                  (None, None, 10)          1720      \n",
      "_________________________________________________________________\n",
      "lstm_1 (LSTM)                (None, 10)                840       \n",
      "_________________________________________________________________\n",
      "dropout_1 (Dropout)          (None, 10)                0         \n",
      "_________________________________________________________________\n",
      "dense (Dense)                (None, 256)               2816      \n",
      "_________________________________________________________________\n",
      "dropout_2 (Dropout)          (None, 256)               0         \n",
      "_________________________________________________________________\n",
      "dense_1 (Dense)              (None, 128)               32896     \n",
      "_________________________________________________________________\n",
      "dense_2 (Dense)              (None, 1)                 129       \n",
      "=================================================================\n",
      "Total params: 228,933\n",
      "Trainable params: 46,433\n",
      "Non-trainable params: 182,500\n",
      "_________________________________________________________________\n",
      "Epoch 1/10\n",
      "19/19 [==============================] - 3s 137ms/step - loss: 0.6897 - accuracy: 0.5233 - val_loss: 0.6693 - val_accuracy: 0.6364\n",
      "Epoch 2/10\n",
      "19/19 [==============================] - 1s 45ms/step - loss: 0.6239 - accuracy: 0.6912 - val_loss: 0.5747 - val_accuracy: 0.7186\n",
      "Epoch 3/10\n",
      "19/19 [==============================] - 1s 44ms/step - loss: 0.5624 - accuracy: 0.7151 - val_loss: 0.5214 - val_accuracy: 0.7403\n",
      "Epoch 4/10\n",
      "19/19 [==============================] - 1s 45ms/step - loss: 0.4922 - accuracy: 0.7757 - val_loss: 0.4974 - val_accuracy: 0.7489\n",
      "Epoch 5/10\n",
      "19/19 [==============================] - 1s 43ms/step - loss: 0.4582 - accuracy: 0.7963 - val_loss: 0.4717 - val_accuracy: 0.7532\n",
      "Epoch 6/10\n",
      "19/19 [==============================] - 1s 44ms/step - loss: 0.4256 - accuracy: 0.7996 - val_loss: 0.4902 - val_accuracy: 0.7532\n",
      "Epoch 7/10\n",
      "19/19 [==============================] - 1s 44ms/step - loss: 0.3954 - accuracy: 0.8332 - val_loss: 0.4405 - val_accuracy: 0.7749\n",
      "Epoch 8/10\n",
      "19/19 [==============================] - 1s 43ms/step - loss: 0.3549 - accuracy: 0.8364 - val_loss: 0.4514 - val_accuracy: 0.7792\n",
      "Epoch 9/10\n",
      "19/19 [==============================] - 1s 45ms/step - loss: 0.3497 - accuracy: 0.8635 - val_loss: 0.3862 - val_accuracy: 0.8225\n",
      "Epoch 10/10\n",
      "19/19 [==============================] - 1s 45ms/step - loss: 0.3089 - accuracy: 0.8657 - val_loss: 0.3655 - val_accuracy: 0.8355\n",
      "Training Complete\n",
      "Saved trained model at keras_fakenews11.h5 \n"
     ]
    }
   ],
   "source": [
    "model.compile(loss='binary_crossentropy',optimizer='adam',metrics=['accuracy'])\n",
    "model.summary()\n",
    "\n",
    "history = model.fit(train_data, train_labels, epochs=10, batch_size=50, validation_data=(test_data, test_labels))\n",
    "\n",
    "print(\"Training Complete\")\n",
    "\n",
    "# saving the model\n",
    "model_path = 'keras_fakenews11.h5'\n",
    "model.save(model_path)\n",
    "print('Saved trained model at %s ' % model_path)"
   ]
  },
  {
   "cell_type": "code",
   "execution_count": 87,
   "metadata": {
    "colab": {
     "base_uri": "https://localhost:8080/",
     "height": 573
    },
    "id": "C5o53b-K7jza",
    "outputId": "369e1beb-7b6c-4396-e880-6a1cacba58a1"
   },
   "outputs": [
    {
     "data": {
      "image/png": "[encoded data removed]",
      "text/plain": [
       "<Figure size 432x288 with 1 Axes>"
      ]
     },
     "metadata": {
      "needs_background": "light"
     },
     "output_type": "display_data"
    },
    {
     "data": {
      "image/png": "[encoded data removed]",
      "text/plain": [
       "<Figure size 432x288 with 1 Axes>"
      ]
     },
     "metadata": {
      "needs_background": "light"
     },
     "output_type": "display_data"
    }
   ],
   "source": [
    "# Visualize the results:\n",
    "\n",
    "plt.plot(history.history['accuracy'])\n",
    "plt.plot(history.history['val_accuracy'])\n",
    "plt.title('Model accuracy')\n",
    "plt.ylabel('Accuracy')\n",
    "plt.xlabel('Epoch')\n",
    "plt.legend(['Train', 'Test'], loc='upper left')\n",
    "plt.show()\n",
    "\n",
    "plt.plot(history.history['loss'])\n",
    "plt.plot(history.history['val_loss'])\n",
    "plt.title('Model loss')\n",
    "plt.ylabel('Loss')\n",
    "plt.xlabel('Epoch')\n",
    "plt.legend(['Train', 'Test'], loc='upper right')\n",
    "plt.show()"
   ]
  },
  {
   "cell_type": "code",
   "execution_count": 88,
   "metadata": {
    "id": "rRY2yKfbkLAn"
   },
   "outputs": [
    {
     "name": "stdout",
     "output_type": "stream",
     "text": [
      "8/8 - 0s - loss: 0.3655 - accuracy: 0.8355\n",
      "{'name': 'sequential', 'layers': [{'class_name': 'InputLayer', 'config': {'batch_input_shape': (None, None), 'dtype': 'float32', 'sparse': False, 'ragged': False, 'name': 'embedding_input'}}, {'class_name': 'Embedding', 'config': {'name': 'embedding', 'trainable': False, 'batch_input_shape': (None, None), 'dtype': 'float32', 'input_dim': 3650, 'output_dim': 50, 'embeddings_initializer': {'class_name': 'RandomUniform', 'config': {'minval': -0.05, 'maxval': 0.05, 'seed': None}}, 'embeddings_regularizer': None, 'activity_regularizer': None, 'embeddings_constraint': None, 'mask_zero': False, 'input_length': None}}, {'class_name': 'Dropout', 'config': {'name': 'dropout', 'trainable': True, 'dtype': 'float32', 'rate': 0.2, 'noise_shape': None, 'seed': None}}, {'class_name': 'Conv1D', 'config': {'name': 'conv1d', 'trainable': True, 'dtype': 'float32', 'filters': 32, 'kernel_size': (5,), 'strides': (1,), 'padding': 'valid', 'data_format': 'channels_last', 'dilation_rate': (1,), 'groups': 1, 'activation': 'relu', 'use_bias': True, 'kernel_initializer': {'class_name': 'GlorotUniform', 'config': {'seed': None}}, 'bias_initializer': {'class_name': 'Zeros', 'config': {}}, 'kernel_regularizer': None, 'bias_regularizer': None, 'activity_regularizer': None, 'kernel_constraint': None, 'bias_constraint': None}}, {'class_name': 'MaxPooling1D', 'config': {'name': 'max_pooling1d', 'trainable': True, 'dtype': 'float32', 'strides': (4,), 'pool_size': (4,), 'padding': 'valid', 'data_format': 'channels_last'}}, {'class_name': 'LSTM', 'config': {'name': 'lstm', 'trainable': True, 'dtype': 'float32', 'return_sequences': True, 'return_state': False, 'go_backwards': False, 'stateful': False, 'unroll': False, 'time_major': False, 'units': 10, 'activation': 'tanh', 'recurrent_activation': 'sigmoid', 'use_bias': True, 'kernel_initializer': {'class_name': 'GlorotUniform', 'config': {'seed': None}}, 'recurrent_initializer': {'class_name': 'Orthogonal', 'config': {'gain': 1.0, 'seed': None}}, 'bias_initializer': {'class_name': 'Zeros', 'config': {}}, 'unit_forget_bias': True, 'kernel_regularizer': None, 'recurrent_regularizer': None, 'bias_regularizer': None, 'activity_regularizer': None, 'kernel_constraint': None, 'recurrent_constraint': None, 'bias_constraint': None, 'dropout': 0.0, 'recurrent_dropout': 0.0, 'implementation': 2}}, {'class_name': 'LSTM', 'config': {'name': 'lstm_1', 'trainable': True, 'dtype': 'float32', 'return_sequences': False, 'return_state': False, 'go_backwards': False, 'stateful': False, 'unroll': False, 'time_major': False, 'units': 10, 'activation': 'tanh', 'recurrent_activation': 'sigmoid', 'use_bias': True, 'kernel_initializer': {'class_name': 'GlorotUniform', 'config': {'seed': None}}, 'recurrent_initializer': {'class_name': 'Orthogonal', 'config': {'gain': 1.0, 'seed': None}}, 'bias_initializer': {'class_name': 'Zeros', 'config': {}}, 'unit_forget_bias': True, 'kernel_regularizer': None, 'recurrent_regularizer': None, 'bias_regularizer': None, 'activity_regularizer': None, 'kernel_constraint': None, 'recurrent_constraint': None, 'bias_constraint': None, 'dropout': 0.0, 'recurrent_dropout': 0.0, 'implementation': 2}}, {'class_name': 'Dropout', 'config': {'name': 'dropout_1', 'trainable': True, 'dtype': 'float32', 'rate': 0.2, 'noise_shape': None, 'seed': None}}, {'class_name': 'Dense', 'config': {'name': 'dense', 'trainable': True, 'dtype': 'float32', 'units': 256, 'activation': 'linear', 'use_bias': True, 'kernel_initializer': {'class_name': 'GlorotUniform', 'config': {'seed': None}}, 'bias_initializer': {'class_name': 'Zeros', 'config': {}}, 'kernel_regularizer': None, 'bias_regularizer': None, 'activity_regularizer': None, 'kernel_constraint': None, 'bias_constraint': None}}, {'class_name': 'Dropout', 'config': {'name': 'dropout_2', 'trainable': True, 'dtype': 'float32', 'rate': 0.3, 'noise_shape': None, 'seed': None}}, {'class_name': 'Dense', 'config': {'name': 'dense_1', 'trainable': True, 'dtype': 'float32', 'units': 128, 'activation': 'linear', 'use_bias': True, 'kernel_initializer': {'class_name': 'GlorotUniform', 'config': {'seed': None}}, 'bias_initializer': {'class_name': 'Zeros', 'config': {}}, 'kernel_regularizer': None, 'bias_regularizer': None, 'activity_regularizer': None, 'kernel_constraint': None, 'bias_constraint': None}}, {'class_name': 'Dense', 'config': {'name': 'dense_2', 'trainable': True, 'dtype': 'float32', 'units': 1, 'activation': 'sigmoid', 'use_bias': True, 'kernel_initializer': {'class_name': 'GlorotUniform', 'config': {'seed': None}}, 'bias_initializer': {'class_name': 'Zeros', 'config': {}}, 'kernel_regularizer': None, 'bias_regularizer': None, 'activity_regularizer': None, 'kernel_constraint': None, 'bias_constraint': None}}]}\n",
      "Test Loss 0.3654644191265106\n",
      "Test Accuracy 0.8354978561401367\n"
     ]
    }
   ],
   "source": [
    "fakenews_model = tf.keras.models.load_model('keras_fakenews11.h5')\n",
    "loss_and_metrics = fakenews_model.evaluate(test_data, test_labels, verbose=2)\n",
    "print(fakenews_model.get_config())\n",
    "\n",
    "print(\"Test Loss\", loss_and_metrics[0])\n",
    "print(\"Test Accuracy\", loss_and_metrics[1])"
   ]
  },
  {
   "cell_type": "code",
   "execution_count": 89,
   "metadata": {
    "scrolled": true
   },
   "outputs": [
    {
     "data": {
      "text/plain": [
       "<AxesSubplot:>"
      ]
     },
     "execution_count": 89,
     "metadata": {},
     "output_type": "execute_result"
    },
    {
     "data": {
      "image/png": "[encoded data removed]",
      "text/plain": [
       "<Figure size 864x648 with 2 Axes>"
      ]
     },
     "metadata": {
      "needs_background": "light"
     },
     "output_type": "display_data"
    }
   ],
   "source": [
    "# load the model and create predictions on the test set\n",
    "fakenews_model = tf.keras.models.load_model(model_path)\n",
    "predicted_classes = fakenews_model.predict_classes(test_data)\n",
    "#predicted_classes = predicted_classes.reshape(-1,1)\n",
    "#rounded_labels=np.argmax(test_labels, axis=1)\n",
    "#rounded_predict=np.argmax(predicted_classes, axis=1)\n",
    "\n",
    "from sklearn.metrics import confusion_matrix\n",
    "\n",
    "cm = confusion_matrix(y_true = test_labels, y_pred = predicted_classes)\n",
    "import seaborn as sns\n",
    "plt.figure(figsize=(12, 9))\n",
    "\n",
    "sns.heatmap(cm, annot=True, fmt='d')\n"
   ]
  },
  {
   "cell_type": "code",
   "execution_count": 90,
   "metadata": {},
   "outputs": [
    {
     "data": {
      "text/plain": [
       "(0.8354978354978355, 0.8354978354978355, 0.8354978354978355, None)"
      ]
     },
     "execution_count": 90,
     "metadata": {},
     "output_type": "execute_result"
    }
   ],
   "source": [
    "from sklearn.metrics import precision_recall_fscore_support\n",
    "\n",
    "precision_recall_fscore_support(test_labels, predicted_classes, average='micro')"
   ]
  },
  {
   "cell_type": "code",
   "execution_count": 91,
   "metadata": {},
   "outputs": [
    {
     "data": {
      "text/plain": [
       "0.8354978354978355"
      ]
     },
     "execution_count": 91,
     "metadata": {},
     "output_type": "execute_result"
    }
   ],
   "source": [
    "from sklearn.metrics import accuracy_score\n",
    "accuracy_score(test_labels, predicted_classes)"
   ]
  },
  {
   "cell_type": "code",
   "execution_count": 92,
   "metadata": {},
   "outputs": [
    {
     "data": {
      "text/plain": [
       "0.8482142857142857"
      ]
     },
     "execution_count": 92,
     "metadata": {},
     "output_type": "execute_result"
    }
   ],
   "source": [
    "from sklearn.metrics import precision_score\n",
    "precision_score(test_labels, predicted_classes)"
   ]
  },
  {
   "cell_type": "code",
   "execution_count": 93,
   "metadata": {},
   "outputs": [
    {
     "data": {
      "text/plain": [
       "0.8333333333333334"
      ]
     },
     "execution_count": 93,
     "metadata": {},
     "output_type": "execute_result"
    }
   ],
   "source": [
    "from sklearn.metrics import f1_score\n",
    "f1_score(test_labels, predicted_classes)"
   ]
  },
  {
   "cell_type": "code",
   "execution_count": 94,
   "metadata": {},
   "outputs": [
    {
     "data": {
      "text/plain": [
       "0.8189655172413793"
      ]
     },
     "execution_count": 94,
     "metadata": {},
     "output_type": "execute_result"
    }
   ],
   "source": [
    "from sklearn.metrics import recall_score\n",
    "recall_score(test_labels, predicted_classes)"
   ]
  },
  {
   "cell_type": "code",
   "execution_count": 95,
   "metadata": {},
   "outputs": [
    {
     "data": {
      "text/plain": [
       "0.8482142857142857"
      ]
     },
     "execution_count": 95,
     "metadata": {},
     "output_type": "execute_result"
    }
   ],
   "source": [
    "from sklearn.metrics import precision_score\n",
    "precision_score(test_labels, predicted_classes)"
   ]
  },
  {
   "cell_type": "code",
   "execution_count": 103,
   "metadata": {},
   "outputs": [],
   "source": [
    "#data_size: the total number of data you want to put in the model( for example: twitter15 is 742)\n",
    "#retweet_user_size: the length of retweet propagation you want to utilize( in the paper we use 40 retweet users)\n",
    "data_size=742\n",
    "retweet_user_size=40\n",
    "\n",
    "##read the Data \n",
    "import numpy as np\n",
    "import os\n",
    "path=\"rumor_detection_acl2017/twitter15/tree/\"\n",
    "files= os.listdir(path)\n",
    "a=[]\n",
    "nodes2 = []\n",
    "weights2 = []\n",
    "k=[]\n",
    "for file in files:\n",
    "    f = open(path + file.format(file))\n",
    "    results=[]\n",
    "    nodes = []\n",
    "    weights = []\n",
    "    k.append(file)    \n",
    "    next(f)\n",
    "    i = 0\n",
    "    for line in f.readlines():\n",
    "        if \"ROOT\" in line:\n",
    "            i = i + 1\n",
    "        else:\n",
    "            line = line.replace(\"[\", \"\")\n",
    "            line = line.replace(\"]\", \"\")\n",
    "            line = line.replace(\"'\", \"\")\n",
    "            line = line.replace(\"->\", \",\")\n",
    "            results.append(list(map(float,line.split(','))))\n",
    "    for i in range(len(results)):\n",
    "        weights.append(results[i][5]-results[i][2])\n",
    "        results[i].pop(1)\n",
    "        results[i].pop(1)\n",
    "        results[i].pop(2)\n",
    "        results[i].pop(2)\n",
    "        nodes.append(results[i][0])\n",
    "        nodes.append(results[i][1])\n",
    "    results=np.array(results)\n",
    "    results=results.tolist()\n",
    "    a.append(results)  \n",
    "    nodes2.append(nodes)\n",
    "    weights2.append(weights)\n",
    "\n",
    "##let all the rewteet user size of news be the same\n",
    "import random\n",
    "from sklearn import preprocessing\n",
    "data_all=[]\n",
    "for i in range(0,data_size):\n",
    "    if len(a[i])>=retweet_user_size:\n",
    "        k=a[i][0:retweet_user_size]\n",
    "        data_all.append(k)\n",
    "    else:\n",
    "        a[i]=np.asarray(a[i])\n",
    "        q=a[i][np.random.choice(a[i].shape[0],retweet_user_size,replace=True),:]\n",
    "        q=q.tolist()\n",
    "        a[i]=a[i].tolist()\n",
    "        k=a[i].extend(q)\n",
    "        k=a[i][0:retweet_user_size]\n",
    "        \n",
    "        data_all.append(k)\n"
   ]
  },
  {
   "cell_type": "code",
   "execution_count": 104,
   "metadata": {},
   "outputs": [],
   "source": [
    "for i in range(len(nodes2)):\n",
    "    nodes2[i] = list(set(nodes2[i])) "
   ]
  },
  {
   "cell_type": "code",
   "execution_count": 105,
   "metadata": {},
   "outputs": [
    {
     "data": {
      "text/plain": [
       "array([[0.  , 3.08, 3.08, ..., 0.  , 0.  , 0.  ],\n",
       "       [0.  , 0.  , 0.  , ..., 0.  , 0.  , 0.  ],\n",
       "       [0.  , 0.  , 0.  , ..., 0.  , 0.  , 0.  ],\n",
       "       ...,\n",
       "       [0.  , 0.  , 0.  , ..., 0.  , 0.  , 0.  ],\n",
       "       [0.  , 0.  , 0.  , ..., 0.  , 0.  , 0.  ],\n",
       "       [0.  , 0.  , 0.  , ..., 0.  , 0.  , 0.  ]])"
      ]
     },
     "execution_count": 105,
     "metadata": {},
     "output_type": "execute_result"
    }
   ],
   "source": [
    "import networkx as nx\n",
    "matrices = []\n",
    "for i in range(len(data_all)):\n",
    "    first = np.array(data_all[i])\n",
    "    first2 = data_all[i]\n",
    "    weight = weights2[i]\n",
    "    for j in range(len(first2)):\n",
    "        first2[j] = tuple(first2[j])\n",
    "    G = nx.DiGraph()\n",
    "    G.add_edges_from(first, weights=1)\n",
    "    G.add_nodes_from(nodes2[i])\n",
    "    zipbObj = zip(first2, weight)\n",
    "    dict_weights = dict(zipbObj)\n",
    "    nx.set_edge_attributes(G, values = dict_weights, name = 'weight')\n",
    "    G.edges(data = True)     \n",
    "    A_hat = nx.adjacency_matrix(G)\n",
    "    matrices.append(A_hat.toarray())\n",
    "matrices[0]"
   ]
  },
  {
   "cell_type": "code",
   "execution_count": 106,
   "metadata": {},
   "outputs": [
    {
     "name": "stdout",
     "output_type": "stream",
     "text": [
      "15\n",
      "2971\n",
      "(15, 2971)\n"
     ]
    }
   ],
   "source": [
    "from padding2 import padd\n",
    "for i in range(742):\n",
    "    matrices[i] = matrices[i][~(matrices[i]==0).all(1)]\n",
    "\n",
    "max2 = len(matrices[0])\n",
    "max3 = matrices[0].shape[1]\n",
    "for i in range(len(matrices)):\n",
    "    if (len(matrices[i]) > max2):\n",
    "        max2 = len(matrices[i])\n",
    "    if(matrices[i].shape[1] > max3):\n",
    "        max3 = matrices[i].shape[1]\n",
    "print(max2)\n",
    "print(max3)\n",
    "\n",
    "for i in range(742):\n",
    "    matrices[i] = np.pad(matrices[i], ((0,(max2 - len(matrices[i]))),(0,(max3 - matrices[i].shape[1]))), 'constant')\n",
    "print(matrices[2].shape)"
   ]
  },
  {
   "cell_type": "code",
   "execution_count": 107,
   "metadata": {},
   "outputs": [
    {
     "name": "stdout",
     "output_type": "stream",
     "text": [
      "[[0.   3.08 3.08 ... 0.   0.   0.  ]\n",
      " [0.   0.   0.   ... 0.   0.   0.  ]\n",
      " [0.   0.   0.   ... 0.   0.   0.  ]\n",
      " ...\n",
      " [0.   0.   0.   ... 0.   0.   0.  ]\n",
      " [0.   0.   0.   ... 0.   0.   0.  ]\n",
      " [0.   0.   0.   ... 0.   0.   0.  ]]\n"
     ]
    }
   ],
   "source": [
    "matrice2 = np.array(matrices)\n",
    "print(matrice2[0])"
   ]
  },
  {
   "cell_type": "code",
   "execution_count": 108,
   "metadata": {},
   "outputs": [
    {
     "ename": "ValueError",
     "evalue": "Found input variables with inconsistent numbers of samples: [742, 1154, 1154]",
     "output_type": "error",
     "traceback": [
      "\u001b[0;31m---------------------------------------------------------------------------\u001b[0m",
      "\u001b[0;31mValueError\u001b[0m                                Traceback (most recent call last)",
      "\u001b[0;32m<ipython-input-108-b0e8fc56b2a0>\u001b[0m in \u001b[0;36m<module>\u001b[0;34m\u001b[0m\n\u001b[0;32m----> 1\u001b[0;31m \u001b[0mX_train\u001b[0m\u001b[0;34m,\u001b[0m \u001b[0mX_test\u001b[0m\u001b[0;34m,\u001b[0m \u001b[0mtrain_data\u001b[0m\u001b[0;34m,\u001b[0m \u001b[0mtest_data\u001b[0m\u001b[0;34m,\u001b[0m \u001b[0my_train\u001b[0m\u001b[0;34m,\u001b[0m \u001b[0my_test\u001b[0m \u001b[0;34m=\u001b[0m \u001b[0mtrain_test_split\u001b[0m\u001b[0;34m(\u001b[0m\u001b[0mmatrice2\u001b[0m\u001b[0;34m,\u001b[0m \u001b[0mpadded\u001b[0m\u001b[0;34m,\u001b[0m \u001b[0mlabels\u001b[0m\u001b[0;34m,\u001b[0m \u001b[0mtest_size\u001b[0m\u001b[0;34m=\u001b[0m\u001b[0;36m0.2\u001b[0m\u001b[0;34m,\u001b[0m \u001b[0mrandom_state\u001b[0m\u001b[0;34m=\u001b[0m\u001b[0;36m42\u001b[0m\u001b[0;34m)\u001b[0m\u001b[0;34m\u001b[0m\u001b[0;34m\u001b[0m\u001b[0m\n\u001b[0m\u001b[1;32m      2\u001b[0m \u001b[0mX_train2\u001b[0m \u001b[0;34m=\u001b[0m \u001b[0mX_train\u001b[0m\u001b[0;34m.\u001b[0m\u001b[0mreshape\u001b[0m\u001b[0;34m(\u001b[0m\u001b[0;34m(\u001b[0m\u001b[0mX_train\u001b[0m\u001b[0;34m.\u001b[0m\u001b[0mshape\u001b[0m\u001b[0;34m[\u001b[0m\u001b[0;36m0\u001b[0m\u001b[0;34m]\u001b[0m\u001b[0;34m,\u001b[0m \u001b[0;36m15\u001b[0m\u001b[0;34m,\u001b[0m \u001b[0;36m2971\u001b[0m\u001b[0;34m,\u001b[0m \u001b[0;36m1\u001b[0m\u001b[0;34m)\u001b[0m\u001b[0;34m)\u001b[0m\u001b[0;34m\u001b[0m\u001b[0;34m\u001b[0m\u001b[0m\n\u001b[1;32m      3\u001b[0m \u001b[0mX_test2\u001b[0m \u001b[0;34m=\u001b[0m \u001b[0mX_test\u001b[0m\u001b[0;34m.\u001b[0m\u001b[0mreshape\u001b[0m\u001b[0;34m(\u001b[0m\u001b[0;34m(\u001b[0m\u001b[0mX_test\u001b[0m\u001b[0;34m.\u001b[0m\u001b[0mshape\u001b[0m\u001b[0;34m[\u001b[0m\u001b[0;36m0\u001b[0m\u001b[0;34m]\u001b[0m\u001b[0;34m,\u001b[0m \u001b[0;36m15\u001b[0m\u001b[0;34m,\u001b[0m \u001b[0;36m2971\u001b[0m\u001b[0;34m,\u001b[0m \u001b[0;36m1\u001b[0m\u001b[0;34m)\u001b[0m\u001b[0;34m)\u001b[0m\u001b[0;34m\u001b[0m\u001b[0;34m\u001b[0m\u001b[0m\n\u001b[1;32m      4\u001b[0m \u001b[0;34m\u001b[0m\u001b[0m\n\u001b[1;32m      5\u001b[0m \u001b[0;31m# one hot encode target values\u001b[0m\u001b[0;34m\u001b[0m\u001b[0;34m\u001b[0m\u001b[0;34m\u001b[0m\u001b[0m\n",
      "\u001b[0;32m~/.local/lib/python3.8/site-packages/sklearn/model_selection/_split.py\u001b[0m in \u001b[0;36mtrain_test_split\u001b[0;34m(*arrays, **options)\u001b[0m\n\u001b[1;32m   2125\u001b[0m         \u001b[0;32mraise\u001b[0m \u001b[0mTypeError\u001b[0m\u001b[0;34m(\u001b[0m\u001b[0;34m\"Invalid parameters passed: %s\"\u001b[0m \u001b[0;34m%\u001b[0m \u001b[0mstr\u001b[0m\u001b[0;34m(\u001b[0m\u001b[0moptions\u001b[0m\u001b[0;34m)\u001b[0m\u001b[0;34m)\u001b[0m\u001b[0;34m\u001b[0m\u001b[0;34m\u001b[0m\u001b[0m\n\u001b[1;32m   2126\u001b[0m \u001b[0;34m\u001b[0m\u001b[0m\n\u001b[0;32m-> 2127\u001b[0;31m     \u001b[0marrays\u001b[0m \u001b[0;34m=\u001b[0m \u001b[0mindexable\u001b[0m\u001b[0;34m(\u001b[0m\u001b[0;34m*\u001b[0m\u001b[0marrays\u001b[0m\u001b[0;34m)\u001b[0m\u001b[0;34m\u001b[0m\u001b[0;34m\u001b[0m\u001b[0m\n\u001b[0m\u001b[1;32m   2128\u001b[0m \u001b[0;34m\u001b[0m\u001b[0m\n\u001b[1;32m   2129\u001b[0m     \u001b[0mn_samples\u001b[0m \u001b[0;34m=\u001b[0m \u001b[0m_num_samples\u001b[0m\u001b[0;34m(\u001b[0m\u001b[0marrays\u001b[0m\u001b[0;34m[\u001b[0m\u001b[0;36m0\u001b[0m\u001b[0;34m]\u001b[0m\u001b[0;34m)\u001b[0m\u001b[0;34m\u001b[0m\u001b[0;34m\u001b[0m\u001b[0m\n",
      "\u001b[0;32m~/.local/lib/python3.8/site-packages/sklearn/utils/validation.py\u001b[0m in \u001b[0;36mindexable\u001b[0;34m(*iterables)\u001b[0m\n\u001b[1;32m    290\u001b[0m     \"\"\"\n\u001b[1;32m    291\u001b[0m     \u001b[0mresult\u001b[0m \u001b[0;34m=\u001b[0m \u001b[0;34m[\u001b[0m\u001b[0m_make_indexable\u001b[0m\u001b[0;34m(\u001b[0m\u001b[0mX\u001b[0m\u001b[0;34m)\u001b[0m \u001b[0;32mfor\u001b[0m \u001b[0mX\u001b[0m \u001b[0;32min\u001b[0m \u001b[0miterables\u001b[0m\u001b[0;34m]\u001b[0m\u001b[0;34m\u001b[0m\u001b[0;34m\u001b[0m\u001b[0m\n\u001b[0;32m--> 292\u001b[0;31m     \u001b[0mcheck_consistent_length\u001b[0m\u001b[0;34m(\u001b[0m\u001b[0;34m*\u001b[0m\u001b[0mresult\u001b[0m\u001b[0;34m)\u001b[0m\u001b[0;34m\u001b[0m\u001b[0;34m\u001b[0m\u001b[0m\n\u001b[0m\u001b[1;32m    293\u001b[0m     \u001b[0;32mreturn\u001b[0m \u001b[0mresult\u001b[0m\u001b[0;34m\u001b[0m\u001b[0;34m\u001b[0m\u001b[0m\n\u001b[1;32m    294\u001b[0m \u001b[0;34m\u001b[0m\u001b[0m\n",
      "\u001b[0;32m~/.local/lib/python3.8/site-packages/sklearn/utils/validation.py\u001b[0m in \u001b[0;36mcheck_consistent_length\u001b[0;34m(*arrays)\u001b[0m\n\u001b[1;32m    253\u001b[0m     \u001b[0muniques\u001b[0m \u001b[0;34m=\u001b[0m \u001b[0mnp\u001b[0m\u001b[0;34m.\u001b[0m\u001b[0munique\u001b[0m\u001b[0;34m(\u001b[0m\u001b[0mlengths\u001b[0m\u001b[0;34m)\u001b[0m\u001b[0;34m\u001b[0m\u001b[0;34m\u001b[0m\u001b[0m\n\u001b[1;32m    254\u001b[0m     \u001b[0;32mif\u001b[0m \u001b[0mlen\u001b[0m\u001b[0;34m(\u001b[0m\u001b[0muniques\u001b[0m\u001b[0;34m)\u001b[0m \u001b[0;34m>\u001b[0m \u001b[0;36m1\u001b[0m\u001b[0;34m:\u001b[0m\u001b[0;34m\u001b[0m\u001b[0;34m\u001b[0m\u001b[0m\n\u001b[0;32m--> 255\u001b[0;31m         raise ValueError(\"Found input variables with inconsistent numbers of\"\n\u001b[0m\u001b[1;32m    256\u001b[0m                          \" samples: %r\" % [int(l) for l in lengths])\n\u001b[1;32m    257\u001b[0m \u001b[0;34m\u001b[0m\u001b[0m\n",
      "\u001b[0;31mValueError\u001b[0m: Found input variables with inconsistent numbers of samples: [742, 1154, 1154]"
     ]
    }
   ],
   "source": [
    "X_train, X_test, train_data, test_data, y_train, y_test = train_test_split(matrice2, padded, labels, test_size=0.2, random_state=42)\n",
    "X_train2 = X_train.reshape((X_train.shape[0], 15, 2971, 1))\n",
    "X_test2 = X_test.reshape((X_test.shape[0], 15, 2971, 1))\n",
    "\n",
    "# one hot encode target values\n",
    "#y_train = to_categorical(y_train)\n",
    "#y_test = to_categorical(y_test)\n",
    "#y_train = np.asarray(y_train).reshape((-1,1))\n",
    "#y_test = np.asarray(y_test).reshape((-1,1))\n",
    "\n",
    "#X_train = X_train.reshape(X_train.shape[0], 15, 2971)\n",
    "#X_test = X_test.reshape(X_test.shape[0], 15, 2971)"
   ]
  },
  {
   "cell_type": "code",
   "execution_count": null,
   "metadata": {},
   "outputs": [],
   "source": [
    "from tensorflow.keras import datasets, layers, models\n",
    "import matplotlib.pyplot as plt\n",
    "model2 = models.Sequential()\n",
    "model2.add(layers.Conv2D(64, (5, 5), activation='relu', input_shape=(15, 2971, 1)))\n",
    "model2.add(layers.MaxPooling2D(4, 4))\n",
    "\n",
    "\n",
    "model2.add(layers.Flatten())\n",
    "model2.add(layers.Dropout(0.2))\n",
    "model2.add(layers.Dense(256))\n",
    "model2.add(layers.Dropout(0.3))\n",
    "model2.add(layers.Dense(128))\n",
    "\n",
    "#model2.add(layers.Dense(1, activation='sigmoid'))"
   ]
  },
  {
   "cell_type": "code",
   "execution_count": 36,
   "metadata": {},
   "outputs": [
    {
     "name": "stdout",
     "output_type": "stream",
     "text": [
      "Epoch 1/4\n",
      "19/19 [==============================] - 23s 1s/step - loss: 15.7397 - accuracy: 0.4992 - val_loss: 2.1045 - val_accuracy: 0.4765\n",
      "Epoch 2/4\n",
      "19/19 [==============================] - 22s 1s/step - loss: 6.0576 - accuracy: 0.5700 - val_loss: 1.0458 - val_accuracy: 0.5034\n",
      "Epoch 3/4\n",
      "19/19 [==============================] - 24s 1s/step - loss: 1.7652 - accuracy: 0.5531 - val_loss: 1.4934 - val_accuracy: 0.5101\n",
      "Epoch 4/4\n",
      "19/19 [==============================] - 25s 1s/step - loss: 0.8089 - accuracy: 0.5649 - val_loss: 1.7938 - val_accuracy: 0.4564\n",
      "Saved trained model at keras_cnnmodel2.h5 \n"
     ]
    }
   ],
   "source": [
    "model2.compile(loss='binary_crossentropy',\n",
    "optimizer='adam',\n",
    "metrics='accuracy')\n",
    "\n",
    "history = model2.fit(X_train2, y_train, epochs=4, \n",
    "                    validation_data=(X_test2, y_test))\n",
    "\n",
    "model_path = 'keras_cnnmodel2.h5'\n",
    "model2.save(model_path)\n",
    "print('Saved trained model at %s ' % model_path)"
   ]
  },
  {
   "cell_type": "code",
   "execution_count": 37,
   "metadata": {},
   "outputs": [
    {
     "data": {
      "image/png": "[encoded data removed]",
      "text/plain": [
       "<Figure size 432x288 with 1 Axes>"
      ]
     },
     "metadata": {
      "needs_background": "light"
     },
     "output_type": "display_data"
    },
    {
     "data": {
      "image/png": "[encoded data removed]",
      "text/plain": [
       "<Figure size 432x288 with 1 Axes>"
      ]
     },
     "metadata": {
      "needs_background": "light"
     },
     "output_type": "display_data"
    }
   ],
   "source": [
    "plt.plot(history.history['accuracy'])\n",
    "plt.plot(history.history['val_accuracy'])\n",
    "plt.title('Model accuracy')\n",
    "plt.ylabel('Accuracy')\n",
    "plt.xlabel('Epoch')\n",
    "plt.legend(['Train', 'Test'], loc='upper left')\n",
    "plt.show()\n",
    "\n",
    "plt.plot(history.history['loss'])\n",
    "plt.plot(history.history['val_loss'])\n",
    "plt.title('Model loss')\n",
    "plt.ylabel('Loss')\n",
    "plt.xlabel('Epoch')\n",
    "plt.legend(['Train', 'Test'], loc='upper right')\n",
    "plt.show()"
   ]
  },
  {
   "cell_type": "code",
   "execution_count": 38,
   "metadata": {},
   "outputs": [
    {
     "data": {
      "text/plain": [
       "<AxesSubplot:>"
      ]
     },
     "execution_count": 38,
     "metadata": {},
     "output_type": "execute_result"
    },
    {
     "data": {
      "image/png": "[encoded data removed]",
      "text/plain": [
       "<Figure size 864x648 with 2 Axes>"
      ]
     },
     "metadata": {
      "needs_background": "light"
     },
     "output_type": "display_data"
    }
   ],
   "source": [
    "fakenews_model2 = tf.keras.models.load_model(model_path)\n",
    "predicted_classes = fakenews_model2.predict(X_test2)\n",
    "classes = np.argmax(predicted_classes, axis=1)\n",
    "\n",
    "\n",
    "from sklearn.metrics import confusion_matrix\n",
    "\n",
    "cm = confusion_matrix(y_true = y_test, y_pred = classes)\n",
    "import seaborn as sns\n",
    "plt.figure(figsize=(12, 9))\n",
    "\n",
    "sns.heatmap(cm, annot=True, fmt='d')"
   ]
  },
  {
   "cell_type": "code",
   "execution_count": null,
   "metadata": {},
   "outputs": [],
   "source": [
    "from tensorflow.keras.models import Sequential\n",
    "from tensorflow.keras.optimizers import Adam \n",
    "from tensorflow.keras.layers import Flatten, Input, concatenate\n",
    "from tensorflow.keras.layers import Activation, Dropout, Dense\n",
    "from tensorflow.keras.models import Model\n",
    " \n",
    "# Create the input to the final set of layers as the output of both the MLP and CNN\n",
    "combinedInput = concatenate([model.output, model2.output])\n",
    "\n",
    "# The final fully-connected layer head will have two dense layers (one relu and one sigmoid)\n",
    "\n",
    "x = Dense(64, activation=\"relu\")(combinedInput)\n",
    "x = Dense(1, activation=\"sigmoid\")(x)\n",
    "\n",
    "# The final model accepts numerical data on the MLP input and images on the CNN input, outputting a single value\n",
    "model1 = Model(inputs=[model.input, model2.input], outputs=x)\n",
    "\n",
    "# Compile the model \n",
    "opt = Adam()\n",
    "model1.compile(loss=\"binary_crossentropy\", metrics=['acc'], optimizer=opt)\n",
    " \n",
    "# Train the model\n",
    "model1_history = model1.fit(\n",
    "  [train_data, X_train], \n",
    "  y_train, \n",
    "  validation_data=([test_data, X_test], y_test), \n",
    "  epochs=6, \n",
    "  batch_size=20)\n",
    "\n",
    "model_path = 'keras_fullmodel2.h5'\n",
    "model1.save(model_path)\n",
    "print('Saved trained model at %s ' % model_path)"
   ]
  },
  {
   "cell_type": "code",
   "execution_count": null,
   "metadata": {},
   "outputs": [],
   "source": [
    "plt.plot(model1_history.history['acc'])\n",
    "plt.plot(model1_history.history['val_acc'])\n",
    "plt.title('Model accuracy')\n",
    "plt.ylabel('Accuracy')\n",
    "plt.xlabel('Epoch')\n",
    "plt.legend(['Train', 'Test'], loc='upper left')\n",
    "plt.show()\n",
    "\n",
    "plt.plot(model1_history.history['loss'])\n",
    "plt.plot(model1_history.history['val_loss'])\n",
    "plt.title('Model loss')\n",
    "plt.ylabel('Loss')\n",
    "plt.xlabel('Epoch')\n",
    "plt.legend(['Train', 'Test'], loc='upper right')\n",
    "plt.show()"
   ]
  },
  {
   "cell_type": "code",
   "execution_count": null,
   "metadata": {},
   "outputs": [],
   "source": [
    "model1.summary()"
   ]
  },
  {
   "cell_type": "code",
   "execution_count": null,
   "metadata": {},
   "outputs": [],
   "source": [
    "fakenews_model = tf.keras.models.load_model(model_path)\n",
    "predicted_classes = fakenews_model.predict([test_data, X_test])\n",
    "classes = np.argmax(predicted_classes, axis=1)\n",
    "\n",
    "\n",
    "from sklearn.metrics import confusion_matrix\n",
    "\n",
    "cm = confusion_matrix(y_true = y_test, y_pred = classes)\n",
    "import seaborn as sns\n",
    "plt.figure(figsize=(12, 9))\n",
    "\n",
    "sns.heatmap(cm, annot=True, fmt='d')"
   ]
  },
  {
   "cell_type": "code",
   "execution_count": null,
   "metadata": {},
   "outputs": [],
   "source": []
  }
 ],
 "metadata": {
  "colab": {
   "name": "FakeNewsClassifier.ipynb",
   "provenance": []
  },
  "kernelspec": {
   "display_name": "Python 3",
   "language": "python",
   "name": "python3"
  },
  "language_info": {
   "codemirror_mode": {
    "name": "ipython",
    "version": 3
   },
   "file_extension": ".py",
   "mimetype": "text/x-python",
   "name": "python",
   "nbconvert_exporter": "python",
   "pygments_lexer": "ipython3",
   "version": "3.8.5"
  }
 },
 "nbformat": 4,
 "nbformat_minor": 1
}
