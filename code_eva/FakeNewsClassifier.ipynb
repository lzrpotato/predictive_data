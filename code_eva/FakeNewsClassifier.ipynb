{
 "cells": [
  {
   "cell_type": "markdown",
   "metadata": {
    "id": "G8huogek1v8D"
   },
   "source": [
    "# **Fake news classifier**"
   ]
  },
  {
   "cell_type": "code",
   "execution_count": 113,
   "metadata": {
    "colab": {
     "base_uri": "https://localhost:8080/",
     "height": 34
    },
    "id": "ofNGIHq02U3R",
    "outputId": "1ac43df8-6a17-489d-ba00-761781a3d727"
   },
   "outputs": [
    {
     "name": "stdout",
     "output_type": "stream",
     "text": [
      "Correct version of Tensorflow installed.\n"
     ]
    }
   ],
   "source": [
    "# First we import the required libraries\n",
    "\n",
    "import tensorflow as tf\n",
    "import random\n",
    "import numpy as np\n",
    "import pandas as pd\n",
    "import matplotlib.image  as mpimg\n",
    "import matplotlib.pyplot as plt\n",
    "import io\n",
    "\n",
    "from sklearn.model_selection import train_test_split\n",
    "from sklearn.utils import shuffle\n",
    "from tensorflow.keras.preprocessing.text import Tokenizer\n",
    "from tensorflow.keras.preprocessing.sequence import pad_sequences\n",
    "from tensorflow.keras.utils import to_categorical\n",
    "from tensorflow.keras import regularizers\n",
    "from tensorflow.keras import backend as K \n",
    "K.clear_session()\n",
    "\n",
    "# Check tensorflow version\n",
    "if float(tf.__version__[0]) < 2.0:\n",
    "  print('Updating tensorflow')\n",
    "  !pip install tensorflow==2.0\n",
    "else:\n",
    "  print('Correct version of Tensorflow installed.')"
   ]
  },
  {
   "cell_type": "code",
   "execution_count": 251,
   "metadata": {
    "colab": {
     "base_uri": "https://localhost:8080/",
     "height": 119
    },
    "id": "7YHDGDv7_VU2",
    "outputId": "7ef1bcc1-671c-4fe5-b07a-985862c3f70d"
   },
   "outputs": [
    {
     "name": "stdout",
     "output_type": "stream",
     "text": [
      "ID      1490\n",
      "text    1490\n",
      "dtype: int64\n"
     ]
    },
    {
     "data": {
      "text/html": [
       "<div>\n",
       "<style scoped>\n",
       "    .dataframe tbody tr th:only-of-type {\n",
       "        vertical-align: middle;\n",
       "    }\n",
       "\n",
       "    .dataframe tbody tr th {\n",
       "        vertical-align: top;\n",
       "    }\n",
       "\n",
       "    .dataframe thead th {\n",
       "        text-align: right;\n",
       "    }\n",
       "</style>\n",
       "<table border=\"1\" class=\"dataframe\">\n",
       "  <thead>\n",
       "    <tr style=\"text-align: right;\">\n",
       "      <th></th>\n",
       "      <th>ID</th>\n",
       "      <th>text</th>\n",
       "      <th>label</th>\n",
       "      <th>code</th>\n",
       "    </tr>\n",
       "  </thead>\n",
       "  <tbody>\n",
       "    <tr>\n",
       "      <th>4</th>\n",
       "      <td>551099691702956032</td>\n",
       "      <td>rip elly may clampett: so sad to learn #beverl...</td>\n",
       "      <td>true</td>\n",
       "      <td>1</td>\n",
       "    </tr>\n",
       "    <tr>\n",
       "      <th>7</th>\n",
       "      <td>514106273852174337</td>\n",
       "      <td>just in: missing afghan soldiers found trying ...</td>\n",
       "      <td>true</td>\n",
       "      <td>1</td>\n",
       "    </tr>\n",
       "    <tr>\n",
       "      <th>9</th>\n",
       "      <td>495366618818830336</td>\n",
       "      <td>#riphulkhogan my heart is ripping like your sh...</td>\n",
       "      <td>false</td>\n",
       "      <td>0</td>\n",
       "    </tr>\n",
       "    <tr>\n",
       "      <th>10</th>\n",
       "      <td>532206910796468224</td>\n",
       "      <td>a chick-fil-a manager allegedly banned this hi...</td>\n",
       "      <td>false</td>\n",
       "      <td>0</td>\n",
       "    </tr>\n",
       "    <tr>\n",
       "      <th>11</th>\n",
       "      <td>560187970389819392</td>\n",
       "      <td>islamic tribunal using sharia law in texas has...</td>\n",
       "      <td>false</td>\n",
       "      <td>0</td>\n",
       "    </tr>\n",
       "  </tbody>\n",
       "</table>\n",
       "</div>"
      ],
      "text/plain": [
       "                    ID                                               text  \\\n",
       "4   551099691702956032  rip elly may clampett: so sad to learn #beverl...   \n",
       "7   514106273852174337  just in: missing afghan soldiers found trying ...   \n",
       "9   495366618818830336  #riphulkhogan my heart is ripping like your sh...   \n",
       "10  532206910796468224  a chick-fil-a manager allegedly banned this hi...   \n",
       "11  560187970389819392  islamic tribunal using sharia law in texas has...   \n",
       "\n",
       "    label  code  \n",
       "4    true     1  \n",
       "7    true     1  \n",
       "9   false     0  \n",
       "10  false     0  \n",
       "11  false     0  "
      ]
     },
     "execution_count": 251,
     "metadata": {},
     "output_type": "execute_result"
    }
   ],
   "source": [
    "# Retrieve the data\n",
    "df = pd.read_csv('rumor_detection_acl2017/twitter15/source_tweets.txt', sep=r'\\t', engine='python')\n",
    "df = df.fillna(' ')\n",
    "df.head()\n",
    "print(df.count())\n",
    "\n",
    "label = pd.read_csv('rumor_detection_acl2017/twitter15/label.txt', sep=r':', engine='python')\n",
    "label = label.fillna(' ')\n",
    "label.head()\n",
    "label.count()\n",
    "\n",
    "df = df.merge(label)\n",
    "df = df[df.label != 'unverified']\n",
    "df = df[df.label != 'non-rumor']\n",
    "df.label = pd.Categorical(df.label)\n",
    "df['code'] = df.label.cat.codes\n",
    "\n",
    "#df['label'] = df.label.astype('category').cat.codes\n",
    "df.head()\n"
   ]
  },
  {
   "cell_type": "code",
   "execution_count": 255,
   "metadata": {},
   "outputs": [
    {
     "name": "stdout",
     "output_type": "stream",
     "text": [
      "ID      818\n",
      "text    818\n",
      "dtype: int64\n"
     ]
    },
    {
     "data": {
      "text/html": [
       "<div>\n",
       "<style scoped>\n",
       "    .dataframe tbody tr th:only-of-type {\n",
       "        vertical-align: middle;\n",
       "    }\n",
       "\n",
       "    .dataframe tbody tr th {\n",
       "        vertical-align: top;\n",
       "    }\n",
       "\n",
       "    .dataframe thead th {\n",
       "        text-align: right;\n",
       "    }\n",
       "</style>\n",
       "<table border=\"1\" class=\"dataframe\">\n",
       "  <thead>\n",
       "    <tr style=\"text-align: right;\">\n",
       "      <th></th>\n",
       "      <th>ID</th>\n",
       "      <th>text</th>\n",
       "      <th>label</th>\n",
       "      <th>code</th>\n",
       "    </tr>\n",
       "  </thead>\n",
       "  <tbody>\n",
       "    <tr>\n",
       "      <th>0</th>\n",
       "      <td>656955120626880512</td>\n",
       "      <td>correct predictions in back to the future ii URL</td>\n",
       "      <td>false</td>\n",
       "      <td>0</td>\n",
       "    </tr>\n",
       "    <tr>\n",
       "      <th>1</th>\n",
       "      <td>615689290706595840</td>\n",
       "      <td>.@whitehouse in rainbow colors for #scotusmarr...</td>\n",
       "      <td>true</td>\n",
       "      <td>1</td>\n",
       "    </tr>\n",
       "    <tr>\n",
       "      <th>2</th>\n",
       "      <td>613404935003217920</td>\n",
       "      <td>cops bought the alleged church shooter burger ...</td>\n",
       "      <td>false</td>\n",
       "      <td>0</td>\n",
       "    </tr>\n",
       "    <tr>\n",
       "      <th>5</th>\n",
       "      <td>614467824313106432</td>\n",
       "      <td>god put a rainbow over the white house 🌈 URL</td>\n",
       "      <td>true</td>\n",
       "      <td>1</td>\n",
       "    </tr>\n",
       "    <tr>\n",
       "      <th>9</th>\n",
       "      <td>622891631293935616</td>\n",
       "      <td>#wakeupamerica🇺🇸 who needs a #gun registry whe...</td>\n",
       "      <td>false</td>\n",
       "      <td>0</td>\n",
       "    </tr>\n",
       "  </tbody>\n",
       "</table>\n",
       "</div>"
      ],
      "text/plain": [
       "                   ID                                               text  \\\n",
       "0  656955120626880512   correct predictions in back to the future ii URL   \n",
       "1  615689290706595840  .@whitehouse in rainbow colors for #scotusmarr...   \n",
       "2  613404935003217920  cops bought the alleged church shooter burger ...   \n",
       "5  614467824313106432       god put a rainbow over the white house 🌈 URL   \n",
       "9  622891631293935616  #wakeupamerica🇺🇸 who needs a #gun registry whe...   \n",
       "\n",
       "   label  code  \n",
       "0  false     0  \n",
       "1   true     1  \n",
       "2  false     0  \n",
       "5   true     1  \n",
       "9  false     0  "
      ]
     },
     "execution_count": 255,
     "metadata": {},
     "output_type": "execute_result"
    }
   ],
   "source": [
    "# test data\n",
    "df2 = pd.read_csv('rumor_detection_acl2017/twitter16/source_tweets.txt', sep=r'\\t', engine='python')\n",
    "df2 = df2.fillna(' ')\n",
    "df2.head()\n",
    "print(df2.count())\n",
    "\n",
    "label2 = pd.read_csv('rumor_detection_acl2017/twitter16/label.txt', sep=r':', engine='python')\n",
    "label2 = label2.fillna(' ')\n",
    "label2.head()\n",
    "label2.count()\n",
    "\n",
    "df2 = df2.merge(label2)\n",
    "df2 = df2[df2.label != 'unverified']\n",
    "df2 = df2[df2.label != 'non-rumor']\n",
    "df2.label = pd.Categorical(df2.label)\n",
    "df2['code'] = df2.label.cat.codes\n",
    "\n",
    "#df['label'] = df.label.astype('category').cat.codes\n",
    "df2.head()"
   ]
  },
  {
   "cell_type": "code",
   "execution_count": 259,
   "metadata": {
    "colab": {
     "base_uri": "https://localhost:8080/",
     "height": 34
    },
    "id": "qHas2w8Dj5dq",
    "outputId": "033463a6-82fb-411f-ada7-fbd97597ad17"
   },
   "outputs": [
    {
     "name": "stdout",
     "output_type": "stream",
     "text": [
      "2729\n",
      "[[ 135  236  108 ...    0    0    0]\n",
      " [  74    4   82 ...    0    0    0]\n",
      " [ 805  137  466 ...    0    0    0]\n",
      " ...\n",
      " [1251 1121 1247 ...    0    0    0]\n",
      " [ 172 2726   58 ...    0    0    0]\n",
      " [ 185 2729    1 ...    0    0    0]]\n"
     ]
    }
   ],
   "source": [
    "# Tokenize text\n",
    "\n",
    "tokenizer = Tokenizer()\n",
    "tokenizer.fit_on_texts(df['text'])\n",
    "word_index = tokenizer.word_index\n",
    "vocab_size=len(word_index)\n",
    "print(vocab_size)\n",
    "\n",
    "# Padding data\n",
    "\n",
    "sequences = tokenizer.texts_to_sequences(df['text'])\n",
    "padded = pad_sequences(sequences, maxlen=50, padding='post', truncating='post')\n",
    "print(padded)"
   ]
  },
  {
   "cell_type": "code",
   "execution_count": 260,
   "metadata": {},
   "outputs": [
    {
     "name": "stdout",
     "output_type": "stream",
     "text": [
      "2729\n",
      "[[727 116   2 ...   0   0   0]\n",
      " [139   2  12 ...   0   0   0]\n",
      " [260 117   3 ...   0   0   0]\n",
      " ...\n",
      " [ 13  14  67 ...   0   0   0]\n",
      " [ 64 344  77 ...   0   0   0]\n",
      " [ 18  55 409 ...   0   0   0]]\n"
     ]
    }
   ],
   "source": [
    "# Tokenize text test data\n",
    "\n",
    "#tokenizer.fit_on_texts(df2['text'])\n",
    "word_index2 = tokenizer.word_index\n",
    "vocab_size2=len(word_index2)\n",
    "print(vocab_size2)\n",
    "\n",
    "# Padding data\n",
    "\n",
    "sequences2 = tokenizer2.texts_to_sequences(df2['text'])\n",
    "padded2 = pad_sequences(sequences2, maxlen=50, padding='post', truncating='post')\n",
    "print(padded2)"
   ]
  },
  {
   "cell_type": "code",
   "execution_count": 244,
   "metadata": {},
   "outputs": [],
   "source": [
    "from sklearn.model_selection import train_test_split\n",
    "labels = df['code']\n",
    "train_data, test_data, train_labels, test_labels = train_test_split(padded, labels, test_size=0.30)\n"
   ]
  },
  {
   "cell_type": "code",
   "execution_count": 261,
   "metadata": {},
   "outputs": [],
   "source": [
    "train_data = padded\n",
    "train_labels = df['code']\n",
    "test_data = padded2\n",
    "test_labels = df2['code']"
   ]
  },
  {
   "cell_type": "code",
   "execution_count": 262,
   "metadata": {
    "colab": {
     "base_uri": "https://localhost:8080/",
     "height": 221
    },
    "id": "4_cKfNmzkH2v",
    "outputId": "8564e533-a433-4040-bacd-d0dce2a84c44"
   },
   "outputs": [
    {
     "name": "stdout",
     "output_type": "stream",
     "text": [
      "50\n"
     ]
    }
   ],
   "source": [
    "# Import tensor representations for words\n",
    "\n",
    "#!wget --no-check-certificate \\\n",
    "   # https://storage.googleapis.com/laurencemoroney-blog.appspot.com/glove.6B.100d.txt \\\n",
    "   # -O /tmp/glove.6B.100d.txt\n",
    "embeddings_index = {};\n",
    "with open('glove.twitter.27B.50d.txt') as f:\n",
    "    for line in f:\n",
    "        values = line.split();\n",
    "        word = values[0];\n",
    "        coefs = np.asarray(values[1:], dtype='float32');\n",
    "        embeddings_index[word] = coefs;\n",
    "print(len(coefs))\n",
    "\n",
    "embeddings_matrix = np.zeros((vocab_size+1, 50));\n",
    "for word, i in word_index.items():\n",
    "    embedding_vector = embeddings_index.get(word);\n",
    "    if embedding_vector is not None:\n",
    "        embeddings_matrix[i] = embedding_vector;"
   ]
  },
  {
   "cell_type": "code",
   "execution_count": 378,
   "metadata": {
    "id": "hjkzdejAeSiu"
   },
   "outputs": [],
   "source": [
    "# Build the architecture of the model\n",
    "     \n",
    "model = tf.keras.Sequential([\n",
    "    tf.keras.layers.Embedding(vocab_size+1, 50, weights=[embeddings_matrix], trainable=False),\n",
    "    tf.keras.layers.Dropout(0.2),\n",
    "    tf.keras.layers.Conv1D(32, 5, activation='relu'),\n",
    "    tf.keras.layers.MaxPooling1D(pool_size=4),\n",
    "    tf.keras.layers.LSTM(10, return_sequences=True),\n",
    "    tf.keras.layers.LSTM(10),\n",
    "    tf.keras.layers.Dropout(0.2),  \n",
    "    tf.keras.layers.Dense(256 ),\n",
    "    tf.keras.layers.Dropout(0.3),  \n",
    "    #tf.keras.layers.Dense(256),\n",
    "    tf.keras.layers.Dense(1, activation='sigmoid')\n",
    "])"
   ]
  },
  {
   "cell_type": "code",
   "execution_count": 379,
   "metadata": {
    "colab": {
     "base_uri": "https://localhost:8080/",
     "height": 734
    },
    "id": "ozzZOuJClDPG",
    "outputId": "4f2a1233-cc77-404f-f3f5-685aa679793b"
   },
   "outputs": [
    {
     "name": "stdout",
     "output_type": "stream",
     "text": [
      "Model: \"sequential_45\"\n",
      "_________________________________________________________________\n",
      "Layer (type)                 Output Shape              Param #   \n",
      "=================================================================\n",
      "embedding_45 (Embedding)     (None, None, 50)          136500    \n",
      "_________________________________________________________________\n",
      "dropout_129 (Dropout)        (None, None, 50)          0         \n",
      "_________________________________________________________________\n",
      "conv1d_44 (Conv1D)           (None, None, 32)          8032      \n",
      "_________________________________________________________________\n",
      "max_pooling1d_44 (MaxPooling (None, None, 32)          0         \n",
      "_________________________________________________________________\n",
      "lstm_89 (LSTM)               (None, None, 10)          1720      \n",
      "_________________________________________________________________\n",
      "lstm_90 (LSTM)               (None, 10)                840       \n",
      "_________________________________________________________________\n",
      "dropout_130 (Dropout)        (None, 10)                0         \n",
      "_________________________________________________________________\n",
      "dense_124 (Dense)            (None, 256)               2816      \n",
      "_________________________________________________________________\n",
      "dropout_131 (Dropout)        (None, 256)               0         \n",
      "_________________________________________________________________\n",
      "dense_125 (Dense)            (None, 1)                 257       \n",
      "=================================================================\n",
      "Total params: 150,165\n",
      "Trainable params: 13,665\n",
      "Non-trainable params: 136,500\n",
      "_________________________________________________________________\n",
      "Epoch 1/3\n",
      "8/8 [==============================] - 2s 290ms/step - loss: 0.6937 - accuracy: 0.4784 - val_loss: 0.6916 - val_accuracy: 0.6019\n",
      "Epoch 2/3\n",
      "8/8 [==============================] - 1s 64ms/step - loss: 0.6903 - accuracy: 0.5404 - val_loss: 0.6881 - val_accuracy: 0.5850\n",
      "Epoch 3/3\n",
      "8/8 [==============================] - 0s 57ms/step - loss: 0.6783 - accuracy: 0.6321 - val_loss: 0.6810 - val_accuracy: 0.6189\n",
      "Training Complete\n",
      "Saved trained model at keras_fakenews7.h5 \n"
     ]
    }
   ],
   "source": [
    "model.compile(loss='binary_crossentropy',optimizer='adam',metrics=['accuracy'])\n",
    "model.summary()\n",
    "\n",
    "history = model.fit(train_data, train_labels, epochs=3, batch_size=100, validation_data=(test_data, test_labels))\n",
    "\n",
    "print(\"Training Complete\")\n",
    "\n",
    "# saving the model\n",
    "model_path = 'keras_fakenews7.h5'\n",
    "model.save(model_path)\n",
    "print('Saved trained model at %s ' % model_path)"
   ]
  },
  {
   "cell_type": "code",
   "execution_count": 380,
   "metadata": {
    "colab": {
     "base_uri": "https://localhost:8080/",
     "height": 573
    },
    "id": "C5o53b-K7jza",
    "outputId": "369e1beb-7b6c-4396-e880-6a1cacba58a1"
   },
   "outputs": [
    {
     "data": {
      "image/png": "[encoded data removed]",
      "text/plain": [
       "<Figure size 432x288 with 1 Axes>"
      ]
     },
     "metadata": {
      "needs_background": "light"
     },
     "output_type": "display_data"
    },
    {
     "data": {
      "image/png": "[encoded data removed]",
      "text/plain": [
       "<Figure size 432x288 with 1 Axes>"
      ]
     },
     "metadata": {
      "needs_background": "light"
     },
     "output_type": "display_data"
    }
   ],
   "source": [
    "# Visualize the results:\n",
    "\n",
    "plt.plot(history.history['accuracy'])\n",
    "plt.plot(history.history['val_accuracy'])\n",
    "plt.title('Model accuracy')\n",
    "plt.ylabel('Accuracy')\n",
    "plt.xlabel('Epoch')\n",
    "plt.legend(['Train', 'Test'], loc='upper left')\n",
    "plt.show()\n",
    "\n",
    "plt.plot(history.history['loss'])\n",
    "plt.plot(history.history['val_loss'])\n",
    "plt.title('Model loss')\n",
    "plt.ylabel('Loss')\n",
    "plt.xlabel('Epoch')\n",
    "plt.legend(['Train', 'Test'], loc='upper right')\n",
    "plt.show()"
   ]
  },
  {
   "cell_type": "code",
   "execution_count": 381,
   "metadata": {
    "id": "rRY2yKfbkLAn"
   },
   "outputs": [
    {
     "name": "stdout",
     "output_type": "stream",
     "text": [
      "13/13 - 0s - loss: 0.6810 - accuracy: 0.6189\n",
      "Test Loss 0.6810334324836731\n",
      "Test Accuracy 0.6189320683479309\n"
     ]
    }
   ],
   "source": [
    "fakenews_model = tf.keras.models.load_model(model_path)\n",
    "loss_and_metrics = fakenews_model.evaluate(test_data, test_labels, verbose=2)\n",
    "\n",
    "print(\"Test Loss\", loss_and_metrics[0])\n",
    "print(\"Test Accuracy\", loss_and_metrics[1])"
   ]
  },
  {
   "cell_type": "code",
   "execution_count": 382,
   "metadata": {},
   "outputs": [
    {
     "data": {
      "text/plain": [
       "<AxesSubplot:>"
      ]
     },
     "execution_count": 382,
     "metadata": {},
     "output_type": "execute_result"
    },
    {
     "data": {
      "image/png": "[encoded data removed]",
      "text/plain": [
       "<Figure size 864x648 with 2 Axes>"
      ]
     },
     "metadata": {
      "needs_background": "light"
     },
     "output_type": "display_data"
    }
   ],
   "source": [
    "# load the model and create predictions on the test set\n",
    "fakenews_model = tf.keras.models.load_model(model_path)\n",
    "predicted_classes = fakenews_model.predict_classes(test_data)\n",
    "\n",
    "from sklearn.metrics import confusion_matrix\n",
    "\n",
    "cm = confusion_matrix(y_true = test_labels, y_pred = predicted_classes)\n",
    "import seaborn as sns\n",
    "plt.figure(figsize=(12, 9))\n",
    "\n",
    "sns.heatmap(cm, annot=True, fmt='d')\n"
   ]
  },
  {
   "cell_type": "code",
   "execution_count": null,
   "metadata": {},
   "outputs": [],
   "source": []
  },
  {
   "cell_type": "code",
   "execution_count": null,
   "metadata": {},
   "outputs": [],
   "source": []
  }
 ],
 "metadata": {
  "colab": {
   "name": "FakeNewsClassifier.ipynb",
   "provenance": []
  },
  "kernelspec": {
   "display_name": "Python 3",
   "language": "python",
   "name": "python3"
  },
  "language_info": {
   "codemirror_mode": {
    "name": "ipython",
    "version": 3
   },
   "file_extension": ".py",
   "mimetype": "text/x-python",
   "name": "python",
   "nbconvert_exporter": "python",
   "pygments_lexer": "ipython3",
   "version": "3.8.5"
  }
 },
 "nbformat": 4,
 "nbformat_minor": 1
}
